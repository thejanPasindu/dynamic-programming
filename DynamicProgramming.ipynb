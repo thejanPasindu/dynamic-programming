{
 "cells": [
  {
   "cell_type": "markdown",
   "id": "da893b01",
   "metadata": {},
   "source": [
    "# Fibonacci Series\n",
    "\n",
    "> 0 1 1 2 3 5 8 13 21 ..."
   ]
  },
  {
   "cell_type": "code",
   "execution_count": 15,
   "id": "38c3daf8",
   "metadata": {},
   "outputs": [
    {
     "name": "stdout",
     "output_type": "stream",
     "text": [
      "12586269025\n"
     ]
    }
   ],
   "source": [
    "def fibonacci(n, memo = {}):\n",
    "    if n in memo: return memo[n]\n",
    "    if n == 1: return 1\n",
    "    if n == 0: return 0\n",
    "    memo[n] = fibonacci(n-1, memo) + fibonacci(n-2, memo)\n",
    "    return memo[n]\n",
    "\n",
    "print(fibonacci(50))"
   ]
  },
  {
   "cell_type": "code",
   "execution_count": null,
   "id": "b75949b7",
   "metadata": {},
   "outputs": [],
   "source": []
  }
 ],
 "metadata": {
  "kernelspec": {
   "display_name": "Python 3",
   "language": "python",
   "name": "python3"
  },
  "language_info": {
   "codemirror_mode": {
    "name": "ipython",
    "version": 3
   },
   "file_extension": ".py",
   "mimetype": "text/x-python",
   "name": "python",
   "nbconvert_exporter": "python",
   "pygments_lexer": "ipython3",
   "version": "3.7.3"
  }
 },
 "nbformat": 4,
 "nbformat_minor": 5
}
