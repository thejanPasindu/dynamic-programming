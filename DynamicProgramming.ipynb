{
 "cells": [
  {
   "cell_type": "markdown",
   "id": "da893b01",
   "metadata": {},
   "source": [
    "# Fibonacci Series\n",
    "\n",
    "Write a function `fib(n)` that takes in a number as an argument. \n",
    "The function should return the n-th number of the Fibonacci sequence. \n",
    "The 1st and 2nd number of the sequence is 1. To generate the next number of the sequence, we sum the previous two. \n",
    "\n",
    "> 0 1 1 2 3 5 8 13 21 ..."
   ]
  },
  {
   "cell_type": "code",
   "execution_count": 15,
   "id": "38c3daf8",
   "metadata": {},
   "outputs": [
    {
     "name": "stdout",
     "output_type": "stream",
     "text": [
      "12586269025\n"
     ]
    }
   ],
   "source": [
    "def fibonacci(n, memo = {}):\n",
    "    if n in memo: return memo[n]\n",
    "    if n == 1: return 1\n",
    "    if n == 0: return 0\n",
    "    memo[n] = fibonacci(n-1, memo) + fibonacci(n-2, memo)\n",
    "    return memo[n]\n",
    "\n",
    "print(fibonacci(50))"
   ]
  },
  {
   "cell_type": "markdown",
   "id": "a9d1ab31",
   "metadata": {},
   "source": [
    "# Grid Traveler\n",
    "Say that you are a traveler on a 2D grid. You begin in the top-left corner and your goal is to travel to the bottom-right corner. You may only move down or right.\n",
    "\n",
    "In how many ways can you travel to the goal on a grid with dimensions m * n? \n",
    "\n",
    "Write a function `gridTraveler(m, n)` that calculates this. "
   ]
  },
  {
   "cell_type": "code",
   "execution_count": 1,
   "id": "60fde8be",
   "metadata": {},
   "outputs": [
    {
     "name": "stdout",
     "output_type": "stream",
     "text": [
      "1\n",
      "3\n",
      "3\n",
      "6\n",
      "2333606220\n"
     ]
    }
   ],
   "source": [
    "def gridTraveler(m, n, memo={}):\n",
    "    key = str(m) + ',' + str(n)\n",
    "    \n",
    "    if key in memo: return memo[key]\n",
    "    if m==1 and n==1: return 1;\n",
    "    if m==0 or n==0: return 0;\n",
    "    \n",
    "    memo[key] = gridTraveler(m-1, n, memo) + gridTraveler(m, n-1, memo)\n",
    "    return memo[key]\n",
    "\n",
    "print(gridTraveler(1, 1))\n",
    "print(gridTraveler(2, 3))\n",
    "print(gridTraveler(3, 2))\n",
    "print(gridTraveler(3, 3))\n",
    "print(gridTraveler(18, 18))"
   ]
  },
  {
   "cell_type": "markdown",
   "id": "8ec97b23",
   "metadata": {},
   "source": [
    "# Can Sum\n",
    "Write a function `canSum(targetSum, numbers)` that takes in a targetSum and an array of numbers as arguments. \n",
    "\n",
    "The function should return a boolean indicating whether or not it is possible to generate the targetSum using numbers from the array. \n",
    "\n",
    "You may use an element of the array as many times as needed. \n",
    "\n",
    "You may assume that all input numbers are nonnegative. \n"
   ]
  },
  {
   "cell_type": "code",
   "execution_count": 11,
   "id": "31844514",
   "metadata": {},
   "outputs": [
    {
     "name": "stdout",
     "output_type": "stream",
     "text": [
      "True\n",
      "True\n",
      "False\n",
      "True\n",
      "False\n"
     ]
    }
   ],
   "source": [
    "def canSum(targetSum, numbers, memo={}):\n",
    "    if targetSum in memo: return memo[targetSum]\n",
    "    if targetSum == 0: return True\n",
    "    if targetSum < 0: return False\n",
    "    \n",
    "    for i in numbers:\n",
    "        remainder = targetSum - i\n",
    "        if canSum(remainder, numbers, memo) == True:\n",
    "            memo[targetSum] = True\n",
    "#             print(memo)\n",
    "            return True\n",
    "    \n",
    "    memo[targetSum] = False\n",
    "    return False\n",
    "\n",
    "print(canSum(7, [2, 3], {}))\n",
    "print(canSum(7, [5, 3, 4, 7], {}))\n",
    "print(canSum(7, [2, 4], {}))\n",
    "print(canSum(8, [2, 3, 5], {}))\n",
    "print(canSum(300, [7, 14], {}))"
   ]
  },
  {
   "cell_type": "markdown",
   "id": "1522f6a2",
   "metadata": {},
   "source": [
    "# How Sum\n",
    "Write a function `howSum(targetSum, numbers)` that takes in a targetSum and an array of numbers as arguments. \n",
    "\n",
    "The function should return an array containing any combination of elements that add up to exactly the targetSum. If there is no combination that adds up to the targetSum, then return null. \n",
    "\n",
    "If there are multiple combinations possible, you may return any single one. \n"
   ]
  },
  {
   "cell_type": "code",
   "execution_count": 35,
   "id": "32179f10",
   "metadata": {},
   "outputs": [
    {
     "name": "stdout",
     "output_type": "stream",
     "text": [
      "[3, 2, 2]\n",
      "[4, 3]\n",
      "None\n",
      "[2, 2, 2, 2]\n",
      "None\n"
     ]
    }
   ],
   "source": [
    "def howSum(targetSum, numbers, memo={}):\n",
    "    if targetSum in memo: return memo[targetSum]\n",
    "    if targetSum == 0: return []\n",
    "    if targetSum < 0: return None\n",
    "    \n",
    "    for i in numbers:\n",
    "        remainder = targetSum - i\n",
    "        reminderArr = howSum(remainder, numbers, memo)\n",
    "#         print(memo)\n",
    "        if reminderArr != None:\n",
    "            reminderArr.append(i)\n",
    "            memo[targetSum] = reminderArr\n",
    "            return  memo[targetSum]\n",
    "    \n",
    "    memo[targetSum] = None\n",
    "    return None\n",
    "\n",
    "print(howSum(7, [2, 3]))\n",
    "print(howSum(7, [5, 3, 4, 7], {}))\n",
    "print(howSum(7, [2, 4], {}))\n",
    "print(howSum(8, [2, 3, 5], {}))\n",
    "print(howSum(300, [7, 14], {}))"
   ]
  },
  {
   "cell_type": "code",
   "execution_count": null,
   "id": "062d9372",
   "metadata": {},
   "outputs": [],
   "source": []
  }
 ],
 "metadata": {
  "kernelspec": {
   "display_name": "Python 3",
   "language": "python",
   "name": "python3"
  },
  "language_info": {
   "codemirror_mode": {
    "name": "ipython",
    "version": 3
   },
   "file_extension": ".py",
   "mimetype": "text/x-python",
   "name": "python",
   "nbconvert_exporter": "python",
   "pygments_lexer": "ipython3",
   "version": "3.7.3"
  }
 },
 "nbformat": 4,
 "nbformat_minor": 5
}
