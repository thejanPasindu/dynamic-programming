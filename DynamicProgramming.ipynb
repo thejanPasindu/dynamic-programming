{
 "cells": [
  {
   "cell_type": "markdown",
   "id": "da893b01",
   "metadata": {},
   "source": [
    "# Fibonacci Series\n",
    "\n",
    "Write a function `fib(n)` that takes in a number as an argument. \n",
    "The function should return the n-th number of the Fibonacci sequence. \n",
    "The 1st and 2nd number of the sequence is 1. To generate the next number of the sequence, we sum the previous two. \n",
    "\n",
    "> 0 1 1 2 3 5 8 13 21 ..."
   ]
  },
  {
   "cell_type": "code",
   "execution_count": 15,
   "id": "38c3daf8",
   "metadata": {},
   "outputs": [
    {
     "name": "stdout",
     "output_type": "stream",
     "text": [
      "12586269025\n"
     ]
    }
   ],
   "source": [
    "def fibonacci(n, memo = {}):\n",
    "    if n in memo: return memo[n]\n",
    "    if n == 1: return 1\n",
    "    if n == 0: return 0\n",
    "    memo[n] = fibonacci(n-1, memo) + fibonacci(n-2, memo)\n",
    "    return memo[n]\n",
    "\n",
    "print(fibonacci(50))"
   ]
  },
  {
   "cell_type": "markdown",
   "id": "a9d1ab31",
   "metadata": {},
   "source": [
    "# Grid Traveler\n",
    "Say that you are a traveler on a 2D grid. You begin in the top-left corner and your goal is to travel to the bottom-right corner. You may only move down or right.\n",
    "\n",
    "In how many ways can you travel to the goal on a grid with dimensions m * n? \n",
    "\n",
    "Write a function `gridTraveler(m, n)` that calculates this. "
   ]
  },
  {
   "cell_type": "code",
   "execution_count": 1,
   "id": "60fde8be",
   "metadata": {},
   "outputs": [
    {
     "name": "stdout",
     "output_type": "stream",
     "text": [
      "1\n",
      "3\n",
      "3\n",
      "6\n",
      "2333606220\n"
     ]
    }
   ],
   "source": [
    "def gridTraveler(m, n, memo={}):\n",
    "    key = str(m) + ',' + str(n)\n",
    "    \n",
    "    if key in memo: return memo[key]\n",
    "    if m==1 and n==1: return 1;\n",
    "    if m==0 or n==0: return 0;\n",
    "    \n",
    "    memo[key] = gridTraveler(m-1, n, memo) + gridTraveler(m, n-1, memo)\n",
    "    return memo[key]\n",
    "\n",
    "print(gridTraveler(1, 1))\n",
    "print(gridTraveler(2, 3))\n",
    "print(gridTraveler(3, 2))\n",
    "print(gridTraveler(3, 3))\n",
    "print(gridTraveler(18, 18))"
   ]
  },
  {
   "cell_type": "code",
   "execution_count": null,
   "id": "63b8e8c1",
   "metadata": {},
   "outputs": [],
   "source": []
  }
 ],
 "metadata": {
  "kernelspec": {
   "display_name": "Python 3",
   "language": "python",
   "name": "python3"
  },
  "language_info": {
   "codemirror_mode": {
    "name": "ipython",
    "version": 3
   },
   "file_extension": ".py",
   "mimetype": "text/x-python",
   "name": "python",
   "nbconvert_exporter": "python",
   "pygments_lexer": "ipython3",
   "version": "3.7.3"
  }
 },
 "nbformat": 4,
 "nbformat_minor": 5
}
